{
 "cells": [
  {
   "cell_type": "markdown",
   "id": "659ca4ca",
   "metadata": {},
   "source": [
    "## Linear Data Structures Basics"
   ]
  },
  {
   "cell_type": "markdown",
   "id": "7614afb7",
   "metadata": {},
   "source": [
    "Q1. Write a program to find all pairs of an integer array whose sum is equal to a given number?"
   ]
  },
  {
   "cell_type": "code",
   "execution_count": 6,
   "id": "3b74cb53",
   "metadata": {},
   "outputs": [
    {
     "name": "stdout",
     "output_type": "stream",
     "text": [
      "Pair Found (1, 23)\n"
     ]
    }
   ],
   "source": [
    "def findpair(nums,target):\n",
    "    for i in range(len(nums)-1):\n",
    "        for j in range(i+1,len(nums)):\n",
    "            if nums[i]+nums[j]==target:\n",
    "                print('Pair Found',(nums[i],nums[j]))\n",
    "                return\n",
    "    print(\"Pair not found\")\n",
    "    \n",
    "    \n",
    "if __name__=='__main__':\n",
    "    \n",
    "    nums=[1,20,4,23,18,7]\n",
    "    target=24\n",
    "    \n",
    "    findpair(nums,target)"
   ]
  },
  {
   "cell_type": "markdown",
   "id": "6732cc63",
   "metadata": {},
   "source": [
    "Q2. Write a program to reverse an array in place? In place means you cannot create a new array. You have to update the original array."
   ]
  },
  {
   "cell_type": "code",
   "execution_count": 7,
   "id": "128def49",
   "metadata": {},
   "outputs": [
    {
     "name": "stdout",
     "output_type": "stream",
     "text": [
      "[10, 20, 30, 40, 50, 60]\n",
      "Reversed list is\n",
      "[60, 50, 40, 30, 20, 10]\n"
     ]
    }
   ],
   "source": [
    "def reverseList(A):\n",
    "  print( A[::-1])\n",
    "    \n",
    "A = [10, 20, 30, 40, 50, 60]\n",
    "print(A)\n",
    "print(\"Reversed list is\")\n",
    "reverseList(A) "
   ]
  },
  {
   "cell_type": "markdown",
   "id": "9f0587c1",
   "metadata": {},
   "source": [
    "Q3. Write a program to check if two strings are a rotation of each other?"
   ]
  },
  {
   "cell_type": "code",
   "execution_count": 9,
   "id": "2e0e62f8",
   "metadata": {},
   "outputs": [
    {
     "name": "stdout",
     "output_type": "stream",
     "text": [
      "Rotation of each other\n"
     ]
    }
   ],
   "source": [
    "def checkrotation(s1,s2):\n",
    "    \n",
    "    if len(s1)!=len(s2):\n",
    "        return False\n",
    "    \n",
    "    temp=s1+s2\n",
    "    \n",
    "    if s2 in temp:\n",
    "        return True\n",
    "    else:\n",
    "        return False\n",
    "    \n",
    "s1=\"KANAD\"\n",
    "s2=\"NADKA\"\n",
    "\n",
    "if checkrotation(s1,s2):\n",
    "    print(\"Rotation of each other\")\n",
    "    \n",
    "else:\n",
    "    print(\"Not rotation of each other\")\n"
   ]
  },
  {
   "cell_type": "markdown",
   "id": "70ccde61",
   "metadata": {},
   "source": [
    "Q4. Write a program to print the first non-repeated character from a string?"
   ]
  },
  {
   "cell_type": "code",
   "execution_count": 17,
   "id": "37e06fe0",
   "metadata": {},
   "outputs": [
    {
     "name": "stdout",
     "output_type": "stream",
     "text": [
      "i\n"
     ]
    }
   ],
   "source": [
    "from collections import Counter\n",
    "\n",
    "def notrep(s):\n",
    "    \n",
    "    freq=Counter(s)\n",
    "    \n",
    "    for i in s:\n",
    "        if(freq[i]==1):\n",
    "            print(i)\n",
    "            break\n",
    "            \n",
    "s=\"allisalllaada\"\n",
    "\n",
    "notrep(s)"
   ]
  },
  {
   "cell_type": "markdown",
   "id": "2e1a723a",
   "metadata": {},
   "source": [
    "Q5. Read about the Tower of Hanoi algorithm. Write a program to implement it."
   ]
  },
  {
   "cell_type": "code",
   "execution_count": 19,
   "id": "9063541d",
   "metadata": {},
   "outputs": [
    {
     "name": "stdout",
     "output_type": "stream",
     "text": [
      "Enter the number of disks3\n",
      "Move disk 1 from rod A to rod C\n",
      "Move disk 2 from rod A to rod B\n",
      "Move disk 1 from rod C to rod B\n",
      "Move disk 3 from rod A to rod C\n",
      "Move disk 1 from rod B to rod A\n",
      "Move disk 2 from rod B to rod C\n",
      "Move disk 1 from rod A to rod C\n"
     ]
    }
   ],
   "source": [
    "def TowerOfHanoi(n , from_rod, to_rod, aux_rod):\n",
    "    if n == 1:\n",
    "        print(\"Move disk 1 from rod\",from_rod,\"to rod\",to_rod)\n",
    "        return\n",
    "    TowerOfHanoi(n-1, from_rod, aux_rod, to_rod)\n",
    "    print(\"Move disk\",n,\"from rod\",from_rod,\"to rod\",to_rod)\n",
    "    TowerOfHanoi(n-1, aux_rod, to_rod, from_rod)\n",
    "         \n",
    "\n",
    "n = int(input(\"Enter the number of disks\"))\n",
    "TowerOfHanoi(n, 'A', 'C', 'B')"
   ]
  },
  {
   "cell_type": "markdown",
   "id": "88893f1f",
   "metadata": {},
   "source": [
    "Q6. Read about infix, prefix, and postfix expressions. Write a program to convert postfix to prefix expression."
   ]
  },
  {
   "cell_type": "code",
   "execution_count": 21,
   "id": "a3493a9e",
   "metadata": {},
   "outputs": [
    {
     "name": "stdout",
     "output_type": "stream",
     "text": [
      "Prefix :  +AB-CD\n"
     ]
    }
   ],
   "source": [
    "def isOperator(x):\n",
    "    \n",
    "    if x == \"+\":\n",
    "        return True\n",
    " \n",
    "    if x == \"-\":\n",
    "        return True\n",
    " \n",
    "    if x == \"/\":\n",
    "        return True\n",
    " \n",
    "    if x == \"*\":\n",
    "        return True\n",
    " \n",
    "    return False\n",
    "def postToPre(post_exp):\n",
    " \n",
    "    s = []\n",
    " \n",
    "   \n",
    "    length = len(post_exp)\n",
    " \n",
    "    \n",
    "    for i in range(length):\n",
    " \n",
    "    \n",
    "        if (isOperator(post_exp[i])):\n",
    " \n",
    "            \n",
    "            op1 = s[-1]\n",
    "            s.pop()\n",
    "            op2 = s[-1]\n",
    "            s.pop()\n",
    " \n",
    "           \n",
    "            temp = post_exp[i] + op2 + op1\n",
    " \n",
    "            \n",
    "            s.append(temp)\n",
    " \n",
    "        \n",
    "        else:\n",
    " \n",
    "            \n",
    "            s.append(post_exp[i])\n",
    " \n",
    "    \n",
    "    ans = \"\"\n",
    "    for i in s:\n",
    "        ans += i\n",
    "    return ans\n",
    " \n",
    "\n",
    "if __name__ == \"__main__\":\n",
    " \n",
    "    post_exp = \"AB+CD-\"\n",
    "     \n",
    "    print(\"Prefix : \", postToPre(post_exp))\n",
    " \n"
   ]
  },
  {
   "cell_type": "markdown",
   "id": "4865f816",
   "metadata": {},
   "source": [
    "Q7. Write a program to convert prefix expression to infix expression."
   ]
  },
  {
   "cell_type": "code",
   "execution_count": 22,
   "id": "0227661d",
   "metadata": {},
   "outputs": [
    {
     "name": "stdout",
     "output_type": "stream",
     "text": [
      "((A-(B/C))*((A/K)-L))\n"
     ]
    }
   ],
   "source": [
    "def prefixToInfix(prefix):\n",
    "    stack = []\n",
    "     \n",
    "    i = len(prefix) - 1\n",
    "    while i >= 0:\n",
    "        if not isOperator(prefix[i]):\n",
    "             \n",
    "            stack.append(prefix[i])\n",
    "            i -= 1\n",
    "        else:\n",
    "           \n",
    "            str = \"(\" + stack.pop() + prefix[i] + stack.pop() + \")\"\n",
    "            stack.append(str)\n",
    "            i -= 1\n",
    "     \n",
    "    return stack.pop()\n",
    " \n",
    "def isOperator(c):\n",
    "    if c == \"*\" or c == \"+\" or c == \"-\" or c == \"/\" or c == \"^\" or c == \"(\" or c == \")\":\n",
    "        return True\n",
    "    else:\n",
    "        return False\n",
    " \n",
    "\n",
    "if __name__==\"__main__\":\n",
    "    str = \"*-A/BC-/AKL\"\n",
    "    print(prefixToInfix(str))"
   ]
  },
  {
   "cell_type": "markdown",
   "id": "e8b9fd6e",
   "metadata": {},
   "source": [
    "Q8. Write a program to check if all the brackets are closed in a given code snippet."
   ]
  },
  {
   "cell_type": "code",
   "execution_count": 23,
   "id": "60ad2cb9",
   "metadata": {},
   "outputs": [
    {
     "name": "stdout",
     "output_type": "stream",
     "text": [
      "Balanced\n"
     ]
    }
   ],
   "source": [
    "\n",
    "def areBracketsBalanced(expr):\n",
    "    stack = []\n",
    " \n",
    "    \n",
    "    for char in expr:\n",
    "        if char in [\"(\", \"{\", \"[\"]:\n",
    " \n",
    "    \n",
    "            stack.append(char)\n",
    "        else:\n",
    " \n",
    "          \n",
    "            if not stack:\n",
    "                return False\n",
    "            current_char = stack.pop()\n",
    "            if current_char == '(':\n",
    "                if char != \")\":\n",
    "                    return False\n",
    "            if current_char == '{':\n",
    "                if char != \"}\":\n",
    "                    return False\n",
    "            if current_char == '[':\n",
    "                if char != \"]\":\n",
    "                    return False\n",
    " \n",
    "   \n",
    "    if stack:\n",
    "        return False\n",
    "    return True\n",
    " \n",
    " \n",
    "\n",
    "if __name__ == \"__main__\":\n",
    "    expr = \"{()}[]\"\n",
    " \n",
    "   \n",
    "    if areBracketsBalanced(expr):\n",
    "        print(\"Balanced\")\n",
    "    else:\n",
    "        print(\"Not Balanced\")"
   ]
  },
  {
   "cell_type": "markdown",
   "id": "00e414ae",
   "metadata": {},
   "source": [
    "Q9. Write a program to reverse a stack."
   ]
  },
  {
   "cell_type": "code",
   "execution_count": 24,
   "id": "4327ad87",
   "metadata": {},
   "outputs": [
    {
     "name": "stdout",
     "output_type": "stream",
     "text": [
      "Enter a string to be reversedkanad amnama amkam\n",
      "Reversed string is makma amanma danak\n"
     ]
    }
   ],
   "source": [
    "class  Stack_to_reverse  :\n",
    "    def __init__(  self  ):\n",
    "        self.items  =  list()\n",
    "        self.size=-1\n",
    " \n",
    "    def  isEmpty(  self  ):\n",
    "        if(self.size==-1):\n",
    "            return True\n",
    "        else:\n",
    "            return False\n",
    " \n",
    "    def  pop(  self  ):\n",
    "        if  self.isEmpty():\n",
    "            print(\"Stack is empty\")\n",
    "        else:\n",
    "            return self.items.pop()\n",
    "            self.size-=1\n",
    " \n",
    "    def  push(  self,  item  ):\n",
    "        self.items.append(item)\n",
    "        self.size+=1\n",
    " \n",
    "    def reverse(self,string):\n",
    "        n = len(string)\n",
    " \n",
    "        for i in range(0,n):\n",
    "            S.push(string[i])\n",
    "\n",
    "        string=\"\"\n",
    "\n",
    " \n",
    "        for i in range(0,n):\n",
    "            string+=S.pop()\n",
    "        return string\n",
    " \n",
    "S=Stack_to_reverse()\n",
    "seq=input(\"Enter a string to be reversed\")\n",
    "sequence = S.reverse(seq)\n",
    "print(\"Reversed string is \" + sequence)"
   ]
  },
  {
   "cell_type": "markdown",
   "id": "272b6a13",
   "metadata": {},
   "source": [
    "Q10. Write a program to find the smallest number using a stack."
   ]
  },
  {
   "cell_type": "code",
   "execution_count": 25,
   "id": "bfe1c38f",
   "metadata": {},
   "outputs": [
    {
     "ename": "TypeError",
     "evalue": "'str' object is not callable",
     "output_type": "error",
     "traceback": [
      "\u001b[1;31m---------------------------------------------------------------------------\u001b[0m",
      "\u001b[1;31mTypeError\u001b[0m                                 Traceback (most recent call last)",
      "\u001b[1;32m~\\AppData\\Local\\Temp/ipykernel_12640/2251745765.py\u001b[0m in \u001b[0;36m<module>\u001b[1;34m\u001b[0m\n\u001b[0;32m      8\u001b[0m        \u001b[0mmin\u001b[0m \u001b[1;33m=\u001b[0m \u001b[0marr\u001b[0m\u001b[1;33m[\u001b[0m\u001b[0mi\u001b[0m\u001b[1;33m]\u001b[0m\u001b[1;33m;\u001b[0m\u001b[1;33m\u001b[0m\u001b[1;33m\u001b[0m\u001b[0m\n\u001b[0;32m      9\u001b[0m \u001b[1;33m\u001b[0m\u001b[0m\n\u001b[1;32m---> 10\u001b[1;33m \u001b[0mprint\u001b[0m\u001b[1;33m(\u001b[0m\u001b[1;34m\"Smallest element present in given stack: \"\u001b[0m \u001b[1;33m+\u001b[0m \u001b[0mstr\u001b[0m\u001b[1;33m(\u001b[0m\u001b[0mmin\u001b[0m\u001b[1;33m)\u001b[0m\u001b[1;33m)\u001b[0m\u001b[1;33m;\u001b[0m\u001b[1;33m\u001b[0m\u001b[1;33m\u001b[0m\u001b[0m\n\u001b[0m",
      "\u001b[1;31mTypeError\u001b[0m: 'str' object is not callable"
     ]
    }
   ],
   "source": [
    "arr = [25, 11, 7, 75, 56];     \n",
    "         \n",
    "min = arr[0];    \n",
    "  \n",
    "for i in range(0, len(arr)):    \n",
    "      \n",
    "   if(arr[i] < min):    \n",
    "       min = arr[i];    \n",
    "     \n",
    "print(\"Smallest element present in given stack: \" + str(min));    "
   ]
  },
  {
   "cell_type": "code",
   "execution_count": null,
   "id": "00571910",
   "metadata": {},
   "outputs": [],
   "source": []
  }
 ],
 "metadata": {
  "kernelspec": {
   "display_name": "Python 3 (ipykernel)",
   "language": "python",
   "name": "python3"
  },
  "language_info": {
   "codemirror_mode": {
    "name": "ipython",
    "version": 3
   },
   "file_extension": ".py",
   "mimetype": "text/x-python",
   "name": "python",
   "nbconvert_exporter": "python",
   "pygments_lexer": "ipython3",
   "version": "3.9.6"
  }
 },
 "nbformat": 4,
 "nbformat_minor": 5
}
